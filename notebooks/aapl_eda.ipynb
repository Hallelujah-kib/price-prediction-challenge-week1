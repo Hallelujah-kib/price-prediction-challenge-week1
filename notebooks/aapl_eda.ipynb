{
 "cells": [
  {
   "cell_type": "markdown",
   "id": "a8e5cf2b",
   "metadata": {},
   "source": [
    "### Importing Important Libraries"
   ]
  },
  {
   "cell_type": "code",
   "execution_count": 1,
   "id": "58833e6c",
   "metadata": {},
   "outputs": [],
   "source": [
    "import sys\n",
    "import os\n",
    "\n",
    "# Add the parent directory to sys.path\n",
    "sys.path.append(os.path.abspath(os.path.join(os.getcwd(), '..')))"
   ]
  },
  {
   "cell_type": "code",
   "execution_count": 2,
   "id": "d598d478",
   "metadata": {},
   "outputs": [],
   "source": [
    "import pandas as pd\n",
    "import matplotlib.pyplot as plt\n",
    "import seaborn as sns\n",
    "from src.utils import analyze_data, get_descriptive_stats, get_sentiment, get_keywords"
   ]
  },
  {
   "cell_type": "markdown",
   "id": "da7a77e0",
   "metadata": {},
   "source": [
    "### Load and analyze data"
   ]
  },
  {
   "cell_type": "code",
   "execution_count": null,
   "id": "823adc79",
   "metadata": {},
   "outputs": [
    {
     "name": "stdout",
     "output_type": "stream",
     "text": [
      "Warning: Some dates could not be parsed and were set to NaT.\n"
     ]
    },
    {
     "name": "stderr",
     "output_type": "stream",
     "text": [
      "c:\\Users\\Lidya\\Documents\\projects\\price_prediction_challnege_week1\\price-prediction-challenge-week1\\src\\utils.py:22: SettingWithCopyWarning: \n",
      "A value is trying to be set on a copy of a slice from a DataFrame.\n",
      "Try using .loc[row_indexer,col_indexer] = value instead\n",
      "\n",
      "See the caveats in the documentation: https://pandas.pydata.org/pandas-docs/stable/user_guide/indexing.html#returning-a-view-versus-a-copy\n",
      "  df['headline_length'] = df['headline'].apply(len)\n",
      "c:\\Users\\Lidya\\Documents\\projects\\price_prediction_challnege_week1\\price-prediction-challenge-week1\\src\\utils.py:32: SettingWithCopyWarning: \n",
      "A value is trying to be set on a copy of a slice from a DataFrame.\n",
      "Try using .loc[row_indexer,col_indexer] = value instead\n",
      "\n",
      "See the caveats in the documentation: https://pandas.pydata.org/pandas-docs/stable/user_guide/indexing.html#returning-a-view-versus-a-copy\n",
      "  df['sentiment'] = df['headline'].apply(analyze_text)\n"
     ]
    },
    {
     "name": "stdout",
     "output_type": "stream",
     "text": [
      "Stats: count    441.000000\n",
      "mean      86.997732\n",
      "std       48.087019\n",
      "min       21.000000\n",
      "25%       61.000000\n",
      "50%       74.000000\n",
      "75%       92.000000\n",
      "max      373.000000\n",
      "Name: headline_length, dtype: float64\n",
      "Top Publishers: publisher\n",
      "Benzinga Newsdesk    117\n",
      "Neer Varshney         47\n",
      "JJ Kinahan            37\n",
      "Lisa Levin            32\n",
      "Charles Gross         25\n",
      "Name: count, dtype: int64\n",
      "Sentiment: sentiment\n",
      "neutral     238\n",
      "positive    146\n",
      "negative     57\n",
      "Name: count, dtype: int64\n",
      "Keywords: [('apple', 242), ('target', 51), ('price', 47), ('shares', 46), ('says', 46), ('coronavirus', 40), ('iphone', 35), ('stocks', 32), ('earnings', 31), ('trading', 30)]\n"
     ]
    },
    {
     "name": "stderr",
     "output_type": "stream",
     "text": [
      "C:\\Users\\Lidya\\AppData\\Local\\Temp\\ipykernel_25372\\146443121.py:18: SettingWithCopyWarning: \n",
      "A value is trying to be set on a copy of a slice from a DataFrame.\n",
      "Try using .loc[row_indexer,col_indexer] = value instead\n",
      "\n",
      "See the caveats in the documentation: https://pandas.pydata.org/pandas-docs/stable/user_guide/indexing.html#returning-a-view-versus-a-copy\n",
      "  df_aapl['date_only'] = df_aapl['date'].dt.date\n"
     ]
    }
   ],
   "source": [
    "df = analyze_data('../data/raw_analyst_ratings.csv')\n",
    "df_aapl = df[df['stock'] == 'AAPL']\n",
    "\n",
    "# Descriptive stats\n",
    "stats, publishers = get_descriptive_stats(df_aapl)\n",
    "print(\"Stats:\", stats)\n",
    "print(\"Top Publishers:\", publishers)\n",
    "\n",
    "# Sentiment\n",
    "sentiment = get_sentiment(df_aapl)\n",
    "print(\"Sentiment:\", sentiment)\n",
    "\n",
    "# Keywords\n",
    "keywords = get_keywords(df_aapl)\n",
    "print(\"Keywords:\", keywords)\n",
    "\n",
    "# Visualization\n",
    "df_aapl['date_only'] = df_aapl['date'].dt.date\n",
    "daily_counts = df_aapl.groupby('date_only').size()\n",
    "plt.figure(figsize=(10, 5))\n",
    "daily_counts.plot(kind='line', title='AAPL Article Frequency')\n",
    "plt.xlabel('Date')\n",
    "plt.ylabel('Articles')\n",
    "plt.savefig(f'../visualizations/aapl_publication_frequency.png')\n",
    "plt.close()"
   ]
  }
 ],
 "metadata": {
  "kernelspec": {
   "display_name": "venv",
   "language": "python",
   "name": "python3"
  },
  "language_info": {
   "codemirror_mode": {
    "name": "ipython",
    "version": 3
   },
   "file_extension": ".py",
   "mimetype": "text/x-python",
   "name": "python",
   "nbconvert_exporter": "python",
   "pygments_lexer": "ipython3",
   "version": "3.9.13"
  }
 },
 "nbformat": 4,
 "nbformat_minor": 5
}
